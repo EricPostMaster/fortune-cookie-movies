{
 "cells": [
  {
   "cell_type": "markdown",
   "metadata": {},
   "source": [
    "# Annotating transformed movie plots\n",
    "\n",
    "In order to remove low quality and unintelligible text transformations, I am annotating each of them so only the good ones end up being served up to the end user. I am using the [tortus](https://pypi.org/project/tortus/) package for annotation."
   ]
  },
  {
   "cell_type": "code",
   "execution_count": 1,
   "metadata": {
    "scrolled": true
   },
   "outputs": [
    {
     "data": {
      "application/vnd.jupyter.widget-view+json": {
       "model_id": "51cde9f54aed4500a4d5b564942f3972",
       "version_major": 2,
       "version_minor": 0
      },
      "text/plain": [
       "Image(value=b'\\x89PNG\\r\\n\\x1a\\n\\x00\\x00\\x00\\rIHDR\\x00\\x00#0\\x00\\x00\\x06\\xc4\\x08\\x06\\x00\\x00\\x00\\xa5\\xaf~d\\x00\\…"
      ]
     },
     "metadata": {},
     "output_type": "display_data"
    },
    {
     "data": {
      "application/vnd.jupyter.widget-view+json": {
       "model_id": "0cab47e5a3804ccc97a3ee33f83ecef7",
       "version_major": 2,
       "version_minor": 0
      },
      "text/plain": [
       "HTML(value=\"<h2 style='text-align:center'>        easy text annotation in a Jupyter Notebook</h2>\")"
      ]
     },
     "metadata": {},
     "output_type": "display_data"
    }
   ],
   "source": [
    "import pandas as pd\n",
    "from tortus import Tortus"
   ]
  },
  {
   "cell_type": "code",
   "execution_count": 2,
   "metadata": {},
   "outputs": [],
   "source": [
    "df = pd.read_csv(\".\\\\transformed_data\\\\all_titles_and_plots.csv\"\n",
    "                ,usecols=['movie_id','movie_title','plot'])"
   ]
  },
  {
   "cell_type": "code",
   "execution_count": 18,
   "metadata": {},
   "outputs": [],
   "source": [
    "tortus = Tortus(df=df, text='plot',id_column='movie_id',num_records=len(df)\n",
    "                ,labels=['Good (Almost perfect)'\n",
    "                        ,'Okay (Understandable)'\n",
    "                        ,'Bad (Meaning is lost)'])"
   ]
  },
  {
   "cell_type": "code",
   "execution_count": 19,
   "metadata": {},
   "outputs": [
    {
     "data": {
      "application/vnd.jupyter.widget-view+json": {
       "model_id": "e82557fb49f141578663ac269ffec7fe",
       "version_major": 2,
       "version_minor": 0
      },
      "text/plain": [
       "HBox(children=(Image(value=b'\\x89PNG\\r\\n\\x1a\\n\\x00\\x00\\x00\\rIHDR\\x00\\x00#0\\x00\\x00\\x06\\xc4\\x08\\x06\\x00\\x00\\x00…"
      ]
     },
     "metadata": {},
     "output_type": "display_data"
    },
    {
     "data": {
      "application/vnd.jupyter.widget-view+json": {
       "model_id": "6d08a99171e24af296fb01295f5c87f3",
       "version_major": 2,
       "version_minor": 0
      },
      "text/plain": [
       "Output()"
      ]
     },
     "metadata": {},
     "output_type": "display_data"
    }
   ],
   "source": [
    "tortus.annotate()"
   ]
  },
  {
   "cell_type": "code",
   "execution_count": 20,
   "metadata": {
    "collapsed": true
   },
   "outputs": [
    {
     "data": {
      "text/html": [
       "<div>\n",
       "<style scoped>\n",
       "    .dataframe tbody tr th:only-of-type {\n",
       "        vertical-align: middle;\n",
       "    }\n",
       "\n",
       "    .dataframe tbody tr th {\n",
       "        vertical-align: top;\n",
       "    }\n",
       "\n",
       "    .dataframe thead th {\n",
       "        text-align: right;\n",
       "    }\n",
       "</style>\n",
       "<table border=\"1\" class=\"dataframe\">\n",
       "  <thead>\n",
       "    <tr style=\"text-align: right;\">\n",
       "      <th></th>\n",
       "      <th>movie_id</th>\n",
       "      <th>plot</th>\n",
       "      <th>label</th>\n",
       "      <th>annotated_at</th>\n",
       "    </tr>\n",
       "  </thead>\n",
       "  <tbody>\n",
       "    <tr>\n",
       "      <th>0</th>\n",
       "      <td>tt0260602</td>\n",
       "      <td>You of Buzz Lightyear as a Space Ranger of Sta...</td>\n",
       "      <td>bad (meaning is lost)</td>\n",
       "      <td>2022-08-18 22:58:52</td>\n",
       "    </tr>\n",
       "    <tr>\n",
       "      <th>1</th>\n",
       "      <td>tt2709768</td>\n",
       "      <td>The quiet life of a terrier named Max will be ...</td>\n",
       "      <td>good (almost perfect)</td>\n",
       "      <td>2022-08-18 22:59:02</td>\n",
       "    </tr>\n",
       "    <tr>\n",
       "      <th>2</th>\n",
       "      <td>tt1436562</td>\n",
       "      <td>When you, a domesticated macaw from small-town...</td>\n",
       "      <td>okay (understandable)</td>\n",
       "      <td>2022-08-18 22:59:16</td>\n",
       "    </tr>\n",
       "    <tr>\n",
       "      <th>3</th>\n",
       "      <td>tt4633694</td>\n",
       "      <td>Teen Miles Morales will become you of your uni...</td>\n",
       "      <td>bad (meaning is lost)</td>\n",
       "      <td>2022-08-18 22:59:23</td>\n",
       "    </tr>\n",
       "    <tr>\n",
       "      <th>4</th>\n",
       "      <td>tt6095472</td>\n",
       "      <td>You and scheming green pigs will take your feu...</td>\n",
       "      <td>good (almost perfect)</td>\n",
       "      <td>2022-08-18 22:59:27</td>\n",
       "    </tr>\n",
       "    <tr>\n",
       "      <th>...</th>\n",
       "      <td>...</td>\n",
       "      <td>...</td>\n",
       "      <td>...</td>\n",
       "      <td>...</td>\n",
       "    </tr>\n",
       "    <tr>\n",
       "      <th>187</th>\n",
       "      <td>tt2129997</td>\n",
       "      <td>Three new mini-movies from the creators of Des...</td>\n",
       "      <td>bad (meaning is lost)</td>\n",
       "      <td>2022-08-18 23:27:30</td>\n",
       "    </tr>\n",
       "    <tr>\n",
       "      <th>188</th>\n",
       "      <td>tt0892769</td>\n",
       "      <td>You who will aspire to hunt dragons will becom...</td>\n",
       "      <td>bad (meaning is lost)</td>\n",
       "      <td>2022-08-18 23:27:38</td>\n",
       "    </tr>\n",
       "    <tr>\n",
       "      <th>189</th>\n",
       "      <td>tt0266543</td>\n",
       "      <td>After you will be capture in the Great Barrier...</td>\n",
       "      <td>okay (understandable)</td>\n",
       "      <td>2022-08-18 23:27:58</td>\n",
       "    </tr>\n",
       "    <tr>\n",
       "      <th>190</th>\n",
       "      <td>tt0120363</td>\n",
       "      <td>When Woody will be stolen by a toy collector, ...</td>\n",
       "      <td>bad (meaning is lost)</td>\n",
       "      <td>2022-08-18 23:28:04</td>\n",
       "    </tr>\n",
       "    <tr>\n",
       "      <th>191</th>\n",
       "      <td>tt0103639</td>\n",
       "      <td>A kindhearted street urchin and a power-hungry...</td>\n",
       "      <td>bad (meaning is lost)</td>\n",
       "      <td>2022-08-18 23:28:11</td>\n",
       "    </tr>\n",
       "  </tbody>\n",
       "</table>\n",
       "<p>192 rows × 4 columns</p>\n",
       "</div>"
      ],
      "text/plain": [
       "      movie_id                                               plot  \\\n",
       "0    tt0260602  You of Buzz Lightyear as a Space Ranger of Sta...   \n",
       "1    tt2709768  The quiet life of a terrier named Max will be ...   \n",
       "2    tt1436562  When you, a domesticated macaw from small-town...   \n",
       "3    tt4633694  Teen Miles Morales will become you of your uni...   \n",
       "4    tt6095472  You and scheming green pigs will take your feu...   \n",
       "..         ...                                                ...   \n",
       "187  tt2129997  Three new mini-movies from the creators of Des...   \n",
       "188  tt0892769  You who will aspire to hunt dragons will becom...   \n",
       "189  tt0266543  After you will be capture in the Great Barrier...   \n",
       "190  tt0120363  When Woody will be stolen by a toy collector, ...   \n",
       "191  tt0103639  A kindhearted street urchin and a power-hungry...   \n",
       "\n",
       "                     label        annotated_at  \n",
       "0    bad (meaning is lost) 2022-08-18 22:58:52  \n",
       "1    good (almost perfect) 2022-08-18 22:59:02  \n",
       "2    okay (understandable) 2022-08-18 22:59:16  \n",
       "3    bad (meaning is lost) 2022-08-18 22:59:23  \n",
       "4    good (almost perfect) 2022-08-18 22:59:27  \n",
       "..                     ...                 ...  \n",
       "187  bad (meaning is lost) 2022-08-18 23:27:30  \n",
       "188  bad (meaning is lost) 2022-08-18 23:27:38  \n",
       "189  okay (understandable) 2022-08-18 23:27:58  \n",
       "190  bad (meaning is lost) 2022-08-18 23:28:04  \n",
       "191  bad (meaning is lost) 2022-08-18 23:28:11  \n",
       "\n",
       "[192 rows x 4 columns]"
      ]
     },
     "execution_count": 20,
     "metadata": {},
     "output_type": "execute_result"
    }
   ],
   "source": [
    "tortus.annotations"
   ]
  },
  {
   "cell_type": "code",
   "execution_count": 21,
   "metadata": {},
   "outputs": [],
   "source": [
    "annotations = tortus.annotations"
   ]
  },
  {
   "cell_type": "code",
   "execution_count": 50,
   "metadata": {},
   "outputs": [
    {
     "data": {
      "text/html": [
       "<div>\n",
       "<style scoped>\n",
       "    .dataframe tbody tr th:only-of-type {\n",
       "        vertical-align: middle;\n",
       "    }\n",
       "\n",
       "    .dataframe tbody tr th {\n",
       "        vertical-align: top;\n",
       "    }\n",
       "\n",
       "    .dataframe thead th {\n",
       "        text-align: right;\n",
       "    }\n",
       "</style>\n",
       "<table border=\"1\" class=\"dataframe\">\n",
       "  <thead>\n",
       "    <tr style=\"text-align: right;\">\n",
       "      <th></th>\n",
       "      <th>movie_id</th>\n",
       "      <th>plot</th>\n",
       "      <th>label</th>\n",
       "      <th>annotated_at</th>\n",
       "    </tr>\n",
       "  </thead>\n",
       "  <tbody>\n",
       "    <tr>\n",
       "      <th>0</th>\n",
       "      <td>tt0260602</td>\n",
       "      <td>You of Buzz Lightyear as a Space Ranger of Sta...</td>\n",
       "      <td>bad (meaning is lost)</td>\n",
       "      <td>2022-08-18 22:58:52</td>\n",
       "    </tr>\n",
       "    <tr>\n",
       "      <th>1</th>\n",
       "      <td>tt2709768</td>\n",
       "      <td>The quiet life of a terrier named Max will be ...</td>\n",
       "      <td>good (almost perfect)</td>\n",
       "      <td>2022-08-18 22:59:02</td>\n",
       "    </tr>\n",
       "    <tr>\n",
       "      <th>2</th>\n",
       "      <td>tt1436562</td>\n",
       "      <td>When you, a domesticated macaw from small-town...</td>\n",
       "      <td>okay (understandable)</td>\n",
       "      <td>2022-08-18 22:59:16</td>\n",
       "    </tr>\n",
       "    <tr>\n",
       "      <th>3</th>\n",
       "      <td>tt4633694</td>\n",
       "      <td>Teen Miles Morales will become you of your uni...</td>\n",
       "      <td>bad (meaning is lost)</td>\n",
       "      <td>2022-08-18 22:59:23</td>\n",
       "    </tr>\n",
       "    <tr>\n",
       "      <th>4</th>\n",
       "      <td>tt6095472</td>\n",
       "      <td>You and scheming green pigs will take your feu...</td>\n",
       "      <td>good (almost perfect)</td>\n",
       "      <td>2022-08-18 22:59:27</td>\n",
       "    </tr>\n",
       "  </tbody>\n",
       "</table>\n",
       "</div>"
      ],
      "text/plain": [
       "    movie_id                                               plot  \\\n",
       "0  tt0260602  You of Buzz Lightyear as a Space Ranger of Sta...   \n",
       "1  tt2709768  The quiet life of a terrier named Max will be ...   \n",
       "2  tt1436562  When you, a domesticated macaw from small-town...   \n",
       "3  tt4633694  Teen Miles Morales will become you of your uni...   \n",
       "4  tt6095472  You and scheming green pigs will take your feu...   \n",
       "\n",
       "                   label        annotated_at  \n",
       "0  bad (meaning is lost) 2022-08-18 22:58:52  \n",
       "1  good (almost perfect) 2022-08-18 22:59:02  \n",
       "2  okay (understandable) 2022-08-18 22:59:16  \n",
       "3  bad (meaning is lost) 2022-08-18 22:59:23  \n",
       "4  good (almost perfect) 2022-08-18 22:59:27  "
      ]
     },
     "execution_count": 50,
     "metadata": {},
     "output_type": "execute_result"
    }
   ],
   "source": [
    "annotations.head()"
   ]
  },
  {
   "cell_type": "code",
   "execution_count": 23,
   "metadata": {},
   "outputs": [
    {
     "data": {
      "text/plain": [
       "bad (meaning is lost)    100\n",
       "good (almost perfect)     59\n",
       "okay (understandable)     33\n",
       "Name: label, dtype: int64"
      ]
     },
     "execution_count": 23,
     "metadata": {},
     "output_type": "execute_result"
    }
   ],
   "source": [
    "annotations['label'].value_counts()"
   ]
  },
  {
   "cell_type": "markdown",
   "metadata": {},
   "source": [
    "## Join titles back into annotated data"
   ]
  },
  {
   "cell_type": "code",
   "execution_count": 24,
   "metadata": {},
   "outputs": [],
   "source": [
    "movie_id_title_table = df[['movie_id','movie_title']]"
   ]
  },
  {
   "cell_type": "code",
   "execution_count": 27,
   "metadata": {},
   "outputs": [
    {
     "name": "stderr",
     "output_type": "stream",
     "text": [
      "C:\\Users\\ericd\\AppData\\Local\\Temp\\ipykernel_12564\\1118637810.py:1: SettingWithCopyWarning: \n",
      "A value is trying to be set on a copy of a slice from a DataFrame\n",
      "\n",
      "See the caveats in the documentation: https://pandas.pydata.org/pandas-docs/stable/user_guide/indexing.html#returning-a-view-versus-a-copy\n",
      "  movie_id_title_table.drop_duplicates(inplace=True)\n"
     ]
    }
   ],
   "source": [
    "movie_id_title_table.drop_duplicates(inplace=True)"
   ]
  },
  {
   "cell_type": "code",
   "execution_count": 30,
   "metadata": {},
   "outputs": [],
   "source": [
    "df_annotated = pd.merge(left=annotations, right=movie_id_title_table\n",
    "                        ,how='left', on='movie_id')"
   ]
  },
  {
   "cell_type": "markdown",
   "metadata": {},
   "source": [
    "## Save annotated files\n",
    "\n",
    "* Annotated titles go in the transformed data folder\n",
    "\n",
    "* Annotated titles rated \"good\" or \"okay\" go in the dash app's data folder"
   ]
  },
  {
   "cell_type": "code",
   "execution_count": 32,
   "metadata": {},
   "outputs": [],
   "source": [
    "df_annotated.to_csv(\".\\\\transformed_data\\\\annotated_titles_and_plots.csv\")"
   ]
  },
  {
   "cell_type": "code",
   "execution_count": 48,
   "metadata": {},
   "outputs": [],
   "source": [
    "df_good_okay = df_annotated.query(\"label in ['good (almost perfect)','okay (understandable)']\")\n",
    "\n",
    "df_good_okay.to_csv(\"..\\\\..\\\\fcm_dashApp\\\\data\\\\good_okay_titles_and_plots.csv\")\n",
    "\n",
    "# labels_keep = ['good (almost perfect)','okay (understandable)']\n",
    "# df_annotated[df_annotated['label'].isin(labels_keep)]"
   ]
  },
  {
   "cell_type": "code",
   "execution_count": 49,
   "metadata": {},
   "outputs": [],
   "source": [
    "df_good_only = df_annotated.query(\"label == 'good (almost perfect)'\")\n",
    "\n",
    "df_good_only.to_csv(\"..\\\\..\\\\fcm_dashApp\\\\data\\\\good_only_titles_and_plots.csv\")"
   ]
  }
 ],
 "metadata": {
  "kernelspec": {
   "display_name": "Python 3 (ipykernel)",
   "language": "python",
   "name": "python3"
  },
  "language_info": {
   "codemirror_mode": {
    "name": "ipython",
    "version": 3
   },
   "file_extension": ".py",
   "mimetype": "text/x-python",
   "name": "python",
   "nbconvert_exporter": "python",
   "pygments_lexer": "ipython3",
   "version": "3.10.4"
  },
  "vscode": {
   "interpreter": {
    "hash": "1078ee3d323a9e12c7eb5b1eebc82c97a0e4210fdcd6b32fc0e5ffb110929fb8"
   }
  }
 },
 "nbformat": 4,
 "nbformat_minor": 2
}
